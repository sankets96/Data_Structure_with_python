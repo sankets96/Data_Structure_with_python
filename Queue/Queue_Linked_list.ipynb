{
  "nbformat": 4,
  "nbformat_minor": 0,
  "metadata": {
    "colab": {
      "provenance": []
    },
    "kernelspec": {
      "name": "python3",
      "display_name": "Python 3"
    },
    "language_info": {
      "name": "python"
    }
  },
  "cells": [
    {
      "cell_type": "code",
      "execution_count": 1,
      "metadata": {
        "id": "pjcL2So0U9Xn"
      },
      "outputs": [],
      "source": [
        "class node:\n",
        "  def __init__(self,m):\n",
        "    self.data = m\n",
        "    self.next = None\n",
        ""
      ]
    },
    {
      "cell_type": "code",
      "source": [
        "class queue:\n",
        "  def __init__(self):\n",
        "    self.front = self.rear = None\n",
        "\n",
        "\n",
        "  def enqueue(self,d):\n",
        "    new = node(d)\n",
        "    if self.rear == None:\n",
        "      self.rear = self.front = new\n",
        "    else:\n",
        "      self.rear.next = new\n",
        "      self.rear = new\n",
        "\n",
        "\n",
        "  def dequeue(self):\n",
        "    if self.front ==None:\n",
        "      print(\"Queue is empty\")\n",
        "    else:\n",
        "      dd = self.front.data\n",
        "      self.front = self.front.next\n",
        "      print(dd,\" is removed\")\n",
        "\n",
        "\n",
        "  def traverse(self):\n",
        "    temp = self.front\n",
        "    while temp!= None:\n",
        "      print(temp.data,end=\" \")\n",
        "      temp = temp.next\n",
        "\n",
        "  def isempty(self):\n",
        "    if self.rear == None:\n",
        "      print(\"True\")\n",
        "    else:\n",
        "      print(\"false\")\n",
        "\n",
        "  def get_front(self):\n",
        "    print(self.front.data)\n",
        "\n",
        "  def get_rear(self):\n",
        "    print(self.rear.data)"
      ],
      "metadata": {
        "id": "-XaZKkrUVJFC"
      },
      "execution_count": 18,
      "outputs": []
    },
    {
      "cell_type": "code",
      "source": [
        "q = queue()"
      ],
      "metadata": {
        "id": "JOtWO_OeWcy3"
      },
      "execution_count": 19,
      "outputs": []
    },
    {
      "cell_type": "markdown",
      "source": [
        "**IsEmpty**"
      ],
      "metadata": {
        "id": "zPj_mdkYYKtk"
      }
    },
    {
      "cell_type": "code",
      "source": [
        "q.isempty()"
      ],
      "metadata": {
        "colab": {
          "base_uri": "https://localhost:8080/"
        },
        "id": "sHQMi4JKWf3i",
        "outputId": "7893addd-f5bc-4958-bf4e-5a57d8ae0bd5"
      },
      "execution_count": 20,
      "outputs": [
        {
          "output_type": "stream",
          "name": "stdout",
          "text": [
            "True\n"
          ]
        }
      ]
    },
    {
      "cell_type": "markdown",
      "source": [
        "**Insertion**"
      ],
      "metadata": {
        "id": "KP6tpME5YUcO"
      }
    },
    {
      "cell_type": "code",
      "source": [
        "q.enqueue(1)\n",
        "q.enqueue(2)\n",
        "q.enqueue(11)\n"
      ],
      "metadata": {
        "id": "GcKhuuqhWvsh"
      },
      "execution_count": 21,
      "outputs": []
    },
    {
      "cell_type": "markdown",
      "source": [
        "**Traverse**"
      ],
      "metadata": {
        "id": "iLa-PhZXYXoW"
      }
    },
    {
      "cell_type": "code",
      "source": [
        "q.traverse()"
      ],
      "metadata": {
        "colab": {
          "base_uri": "https://localhost:8080/"
        },
        "id": "eo0vk6e7W1aj",
        "outputId": "7545916b-4bae-44b1-9023-52f92cf32f92"
      },
      "execution_count": 22,
      "outputs": [
        {
          "output_type": "stream",
          "name": "stdout",
          "text": [
            "1 2 11 "
          ]
        }
      ]
    },
    {
      "cell_type": "markdown",
      "source": [
        "**Deletion**"
      ],
      "metadata": {
        "id": "x4W9EDBEYajE"
      }
    },
    {
      "cell_type": "code",
      "source": [
        "q.dequeue()"
      ],
      "metadata": {
        "colab": {
          "base_uri": "https://localhost:8080/"
        },
        "id": "CJU39HxOW2lv",
        "outputId": "4fb2da4d-5dc6-4326-d0a7-10f5df89d2d6"
      },
      "execution_count": 23,
      "outputs": [
        {
          "output_type": "stream",
          "name": "stdout",
          "text": [
            "1  is removed\n"
          ]
        }
      ]
    },
    {
      "cell_type": "code",
      "source": [
        "q.traverse()"
      ],
      "metadata": {
        "colab": {
          "base_uri": "https://localhost:8080/"
        },
        "id": "DBgAlTdxW5-d",
        "outputId": "3e401c76-e9a3-4505-e54d-b2cbd064ec0a"
      },
      "execution_count": 24,
      "outputs": [
        {
          "output_type": "stream",
          "name": "stdout",
          "text": [
            "2 11 "
          ]
        }
      ]
    },
    {
      "cell_type": "markdown",
      "source": [
        "**Peek**"
      ],
      "metadata": {
        "id": "GSRpUEr4Yec-"
      }
    },
    {
      "cell_type": "code",
      "source": [
        "q.get_front()"
      ],
      "metadata": {
        "colab": {
          "base_uri": "https://localhost:8080/"
        },
        "id": "I5JHwSBmW8b2",
        "outputId": "01e04c2e-32b7-4514-8bc1-e3324bafb721"
      },
      "execution_count": 25,
      "outputs": [
        {
          "output_type": "stream",
          "name": "stdout",
          "text": [
            "2\n"
          ]
        }
      ]
    },
    {
      "cell_type": "code",
      "source": [
        "q.get_rear()"
      ],
      "metadata": {
        "colab": {
          "base_uri": "https://localhost:8080/"
        },
        "id": "rpIVlaAQXf2R",
        "outputId": "2731f1d4-85e2-4ee7-e400-e6d17788b98e"
      },
      "execution_count": 26,
      "outputs": [
        {
          "output_type": "stream",
          "name": "stdout",
          "text": [
            "11\n"
          ]
        }
      ]
    },
    {
      "cell_type": "code",
      "source": [],
      "metadata": {
        "id": "QTtRa81dXipE"
      },
      "execution_count": null,
      "outputs": []
    }
  ]
}