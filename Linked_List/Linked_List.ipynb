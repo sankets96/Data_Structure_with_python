{
  "nbformat": 4,
  "nbformat_minor": 0,
  "metadata": {
    "colab": {
      "provenance": []
    },
    "kernelspec": {
      "name": "python3",
      "display_name": "Python 3"
    },
    "language_info": {
      "name": "python"
    }
  },
  "cells": [
    {
      "cell_type": "markdown",
      "source": [
        "**LINKED LIST**\n",
        "\n",
        "*   collection of nodes\n",
        "*   it is linear data structure\n",
        "\n"
      ],
      "metadata": {
        "id": "ODC5MjRJ467L"
      }
    },
    {
      "cell_type": "code",
      "source": [
        "class node:\n",
        "\n",
        "  def __init__(self,val):\n",
        "    self.data = val\n",
        "    self.next = None\n"
      ],
      "metadata": {
        "id": "1sSWKYV749sO"
      },
      "execution_count": 1,
      "outputs": []
    },
    {
      "cell_type": "code",
      "source": [
        "class Linkedlist:\n",
        "#r creating emplty linked list\n",
        "  def __init__(self):\n",
        "    #head create\n",
        "    self.head = None\n",
        "    #count of element in list\n",
        "    self.n= 0\n",
        "  def __len__(self):\n",
        "    return self.n\n",
        "\n",
        "  def insertionatHead(self,val):\n",
        "    #creting new node\n",
        "    new = node(val)\n",
        "    #head changing\n",
        "    new.next = self.head\n",
        "    self.head = new\n",
        "    #count\n",
        "    self.n = self.n+1\n",
        "\n",
        "\n",
        "  #traverse the linked list\n",
        "  def traverse(self):\n",
        "    curr = self.head\n",
        "    while(curr != None):\n",
        "      print(curr.data)\n",
        "      curr = curr.next\n",
        "\n",
        "\n",
        "\n",
        "  def __str__(self):\n",
        "    curr = self.head\n",
        "    while(curr != None):\n",
        "      print(curr.data)\n",
        "      curr = curr.next\n",
        "\n",
        "  def inserAtTail(self,val):\n",
        "    new = node(val)\n",
        "    #trarse to the\n",
        "    if self.head == None:\n",
        "      self.head = new\n",
        "      self.n = self.n+1\n",
        "    else:\n",
        "      curr = self.head\n",
        "      while curr.next !=None:\n",
        "        curr = curr.next\n",
        "      #last elemens\n",
        "      curr.next= new\n",
        "      #count increase\n",
        "      self.n = self.n+1\n",
        "\n",
        "\n",
        "  def insertatmiddle(self,val,pos):\n",
        "    #create new node\n",
        "    new = node(val)\n",
        "    #for handle fst node\n",
        "    if self.head == None:\n",
        "      self.head = new\n",
        "      self.n = self.n+1\n",
        "\n",
        "\n",
        "    curr = self.head\n",
        "    while curr != None:\n",
        "      if curr.data == pos:\n",
        "        break\n",
        "      curr = curr.next\n",
        "    if curr != None:\n",
        "      new.next = curr.next\n",
        "      curr.next = new\n",
        "      self.n = self.n+1\n",
        "    else:\n",
        "      return 'Item not found '\n",
        "\n",
        "  #deletion function below\n",
        "  def clear(self):\n",
        "    self.n = 0\n",
        "    self.head = None\n",
        "\n",
        "\n",
        "  def del_head(self):\n",
        "    if self.head == None:\n",
        "      return 'empty list'\n",
        "    else:\n",
        "      self.head = self.head.next\n",
        "\n",
        "      self.n = self.n-1\n",
        "#pop\n",
        "  def del_tail(self):\n",
        "    #for empty linked list\n",
        "    if self.head ==None:\n",
        "      return 'empty linked list'\n",
        "    curr = self.head\n",
        "    #check for only one lined list\n",
        "    if curr.next ==None:\n",
        "      return self.del_head()\n",
        "\n",
        "\n",
        "    while curr.next.next != None:\n",
        "      curr = curr.next\n",
        "\n",
        "    curr.next = None\n",
        "    self.n = self.n-1\n",
        "\n",
        "\n",
        "    #delete from middle\n",
        "  def del_middle(self,item):\n",
        "    #empty linkedf list\n",
        "    if self.head == None:\n",
        "      return 'empty list'\n",
        "\n",
        "    #when item is in head\n",
        "    if self.head.data == item:\n",
        "      return self.del_head()\n",
        "\n",
        "\n",
        "\n",
        "    curr = self.head\n",
        "    while curr.next != None:\n",
        "      if curr.next.data == item:\n",
        "        break\n",
        "      curr = curr.next\n",
        "\n",
        "    #case1itemp found\n",
        "    #case2 item not found\n",
        "\n",
        "    if curr.next == None:\n",
        "      return 'not found'\n",
        "\n",
        "    curr.next = curr.next.next\n",
        "    self.n = self.n-1\n",
        "\n",
        "\n",
        "\n",
        "  #searchinf by value\n",
        "  def search(self,item):\n",
        "    curr = self.head\n",
        "    pos=0\n",
        "    while curr!= None:\n",
        "      if curr.data == item:\n",
        "        return pos\n",
        "      curr = curr.next\n",
        "      pos = pos+1\n",
        "\n",
        "    return 'not found'\n",
        "\n",
        "\n",
        "\n",
        "  def __getitem__(self,index):\n",
        "    curr = self.head\n",
        "    pos= 0\n",
        "    while curr!= None:\n",
        "      if pos== index:\n",
        "        return curr.data\n",
        "      curr = curr.next\n",
        "      pos = pos+1\n",
        "\n",
        "    return 'Index error'\n",
        "\n",
        "\n",
        "\n",
        "\n",
        "\n",
        "\n"
      ],
      "metadata": {
        "id": "9a7-AaqN5QOR"
      },
      "execution_count": 45,
      "outputs": []
    },
    {
      "cell_type": "code",
      "source": [
        "l1 = Linkedlist()"
      ],
      "metadata": {
        "id": "Kn-EUXiS6Pbg"
      },
      "execution_count": 46,
      "outputs": []
    },
    {
      "cell_type": "markdown",
      "source": [
        "**Insertion**\n",
        "\n",
        "*   insert at head\n",
        "*   insert at tail\n",
        "\n",
        "*   insert at middle\n",
        "\n",
        "\n",
        "\n"
      ],
      "metadata": {
        "id": "zDh292m5rIy8"
      }
    },
    {
      "cell_type": "code",
      "source": [
        "\n",
        "l1.insertionatHead(4)\n",
        "l1.insertionatHead(3)\n",
        "l1.insertionatHead(2)\n",
        "l1.insertionatHead(1)\n"
      ],
      "metadata": {
        "id": "BDhopzpN0DvB"
      },
      "execution_count": 47,
      "outputs": []
    },
    {
      "cell_type": "code",
      "source": [
        "len(l1)"
      ],
      "metadata": {
        "colab": {
          "base_uri": "https://localhost:8080/"
        },
        "id": "xLiC62ia0PYd",
        "outputId": "50b99d5d-40ac-42c7-de31-e01efd9e9b72"
      },
      "execution_count": 48,
      "outputs": [
        {
          "output_type": "execute_result",
          "data": {
            "text/plain": [
              "4"
            ]
          },
          "metadata": {},
          "execution_count": 48
        }
      ]
    },
    {
      "cell_type": "code",
      "source": [
        "\n",
        "l1.traverse()"
      ],
      "metadata": {
        "colab": {
          "base_uri": "https://localhost:8080/"
        },
        "id": "zRn5OoZ-0dGF",
        "outputId": "cbb66c26-97c8-4d60-a625-e19cd74feef4"
      },
      "execution_count": 49,
      "outputs": [
        {
          "output_type": "stream",
          "name": "stdout",
          "text": [
            "1\n",
            "2\n",
            "3\n",
            "4\n"
          ]
        }
      ]
    },
    {
      "cell_type": "code",
      "source": [
        "l1.inserAtTail(5)\n",
        "l1.traverse()"
      ],
      "metadata": {
        "colab": {
          "base_uri": "https://localhost:8080/"
        },
        "id": "30mLX62t06z-",
        "outputId": "b6b81546-83e5-4661-e1c2-c19d32c8c106"
      },
      "execution_count": 50,
      "outputs": [
        {
          "output_type": "stream",
          "name": "stdout",
          "text": [
            "1\n",
            "2\n",
            "3\n",
            "4\n",
            "5\n"
          ]
        }
      ]
    },
    {
      "cell_type": "code",
      "source": [
        "l1.insertatmiddle(12,3)\n",
        "l1.traverse()"
      ],
      "metadata": {
        "id": "CTTRxyWM1WPJ",
        "colab": {
          "base_uri": "https://localhost:8080/"
        },
        "outputId": "bef7607a-a030-4d1b-f009-a6b3deed5e4a"
      },
      "execution_count": 51,
      "outputs": [
        {
          "output_type": "stream",
          "name": "stdout",
          "text": [
            "1\n",
            "2\n",
            "3\n",
            "12\n",
            "4\n",
            "5\n"
          ]
        }
      ]
    },
    {
      "cell_type": "markdown",
      "source": [
        "**Deletion**\n",
        "\n",
        "*   clear function\n",
        "*   del from head\n",
        "\n",
        "*   del from tail\n",
        "*   del from middle\n",
        "\n",
        "\n",
        "\n"
      ],
      "metadata": {
        "id": "8Mzs2_NqqbNN"
      }
    },
    {
      "cell_type": "code",
      "source": [
        "l1.del_head()\n",
        "l1.traverse()"
      ],
      "metadata": {
        "colab": {
          "base_uri": "https://localhost:8080/"
        },
        "id": "cfqdOqg4qdt9",
        "outputId": "00791e5e-eaec-48c7-81b3-6aa37510e89c"
      },
      "execution_count": 52,
      "outputs": [
        {
          "output_type": "stream",
          "name": "stdout",
          "text": [
            "2\n",
            "3\n",
            "12\n",
            "4\n",
            "5\n"
          ]
        }
      ]
    },
    {
      "cell_type": "code",
      "source": [
        "l1.del_tail()\n",
        "l1.traverse()"
      ],
      "metadata": {
        "id": "3VOvXxCkrHkf",
        "colab": {
          "base_uri": "https://localhost:8080/"
        },
        "outputId": "c33a4c9f-9647-47e6-de18-3340f854e71b"
      },
      "execution_count": 53,
      "outputs": [
        {
          "output_type": "stream",
          "name": "stdout",
          "text": [
            "2\n",
            "3\n",
            "12\n",
            "4\n"
          ]
        }
      ]
    },
    {
      "cell_type": "code",
      "source": [
        "l1.del_middle(40)\n",
        "l1.traverse()"
      ],
      "metadata": {
        "id": "E-KUw12-KPiT",
        "colab": {
          "base_uri": "https://localhost:8080/"
        },
        "outputId": "68f770a6-0b91-4e2c-f4c1-42ab3942d187"
      },
      "execution_count": 54,
      "outputs": [
        {
          "output_type": "stream",
          "name": "stdout",
          "text": [
            "2\n",
            "3\n",
            "12\n",
            "4\n"
          ]
        }
      ]
    },
    {
      "cell_type": "code",
      "source": [
        "\n",
        "\n",
        "\n",
        "l1.traverse()\n"
      ],
      "metadata": {
        "colab": {
          "base_uri": "https://localhost:8080/"
        },
        "id": "dIfRuePHFeFJ",
        "outputId": "7906fc16-ba87-4e0e-cfb9-c0c7c97a131f"
      },
      "execution_count": 55,
      "outputs": [
        {
          "output_type": "stream",
          "name": "stdout",
          "text": [
            "2\n",
            "3\n",
            "12\n",
            "4\n"
          ]
        }
      ]
    },
    {
      "cell_type": "code",
      "source": [
        "\n"
      ],
      "metadata": {
        "id": "4aqPFDwFFeIZ"
      },
      "execution_count": 41,
      "outputs": []
    },
    {
      "cell_type": "markdown",
      "source": [
        "**Searching**\n",
        "\n",
        "*   search by value\n",
        "*   serach by index\n",
        "\n"
      ],
      "metadata": {
        "id": "JBWrkoeFFegJ"
      }
    },
    {
      "cell_type": "code",
      "source": [
        "l1.search(30)"
      ],
      "metadata": {
        "id": "0dcRZR4oFqWM",
        "colab": {
          "base_uri": "https://localhost:8080/",
          "height": 35
        },
        "outputId": "0b381ff3-64ef-47ef-b786-363747715daf"
      },
      "execution_count": 42,
      "outputs": [
        {
          "output_type": "execute_result",
          "data": {
            "text/plain": [
              "'not found'"
            ],
            "application/vnd.google.colaboratory.intrinsic+json": {
              "type": "string"
            }
          },
          "metadata": {},
          "execution_count": 42
        }
      ]
    },
    {
      "cell_type": "code",
      "source": [
        "l1.search(3)"
      ],
      "metadata": {
        "colab": {
          "base_uri": "https://localhost:8080/"
        },
        "id": "vzvZ91lOpKka",
        "outputId": "7353703a-30fd-4478-8715-d4c0a7eab583"
      },
      "execution_count": 56,
      "outputs": [
        {
          "output_type": "execute_result",
          "data": {
            "text/plain": [
              "1"
            ]
          },
          "metadata": {},
          "execution_count": 56
        }
      ]
    },
    {
      "cell_type": "code",
      "source": [
        "l1[3]"
      ],
      "metadata": {
        "colab": {
          "base_uri": "https://localhost:8080/"
        },
        "id": "LvOqMT-cpQ-F",
        "outputId": "5693b34d-1b38-42cf-ccc9-2e91527e59fb"
      },
      "execution_count": 57,
      "outputs": [
        {
          "output_type": "execute_result",
          "data": {
            "text/plain": [
              "4"
            ]
          },
          "metadata": {},
          "execution_count": 57
        }
      ]
    },
    {
      "cell_type": "code",
      "source": [],
      "metadata": {
        "id": "NaIZKpGiqGEc"
      },
      "execution_count": null,
      "outputs": []
    }
  ]
}