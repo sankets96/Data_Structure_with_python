{
  "nbformat": 4,
  "nbformat_minor": 0,
  "metadata": {
    "colab": {
      "provenance": []
    },
    "kernelspec": {
      "name": "python3",
      "display_name": "Python 3"
    },
    "language_info": {
      "name": "python"
    }
  },
  "cells": [
    {
      "cell_type": "markdown",
      "source": [
        "**Stack operation**\n",
        "\n",
        "*   Push()\n",
        "*   pop()\n",
        "\n",
        "*   peak()\n",
        "*   isempty()\n",
        "\n",
        "*   count()\n",
        "\n",
        "\n",
        "\n",
        "\n",
        "\n",
        "\n"
      ],
      "metadata": {
        "id": "AP7e8JCW6vQ7"
      }
    },
    {
      "cell_type": "code",
      "source": [
        "class node:\n",
        "  def __init__(self,m):\n",
        "    self.data = m\n",
        "    self.next = None\n",
        "\n",
        "\n",
        "class Stack:\n",
        "  def __init__(self):\n",
        "    self.top = None\n",
        "    self.n = 0\n",
        "\n",
        "\n",
        "  def push(self,m):\n",
        "    new = node(m)\n",
        "    new.next = self.top\n",
        "    self.top = new\n",
        "    self.n = self.n+1\n",
        "\n",
        "\n",
        "  def traverse(self):\n",
        "    curr = self.top\n",
        "    while curr!= None:\n",
        "\n",
        "      print(curr.data)\n",
        "\n",
        "      curr = curr.next\n",
        "\n",
        "  def count(self):\n",
        "    return self.n\n",
        "\n",
        "\n",
        "  def pop(self):\n",
        "    print('Pop the ',self.top.data)\n",
        "    self.top = self.top.next\n",
        "    self.n = self.n-1\n",
        "\n",
        "\n",
        "  def isempty(self):\n",
        "    if self.top == None:\n",
        "      return True\n",
        "    else:\n",
        "      return False\n",
        "\n",
        "\n",
        "  def peak(self):\n",
        "    print(self.top.data)\n",
        "\n",
        "\n",
        "\n"
      ],
      "metadata": {
        "id": "-8uq5K-u694f"
      },
      "execution_count": 40,
      "outputs": []
    },
    {
      "cell_type": "code",
      "source": [
        "#object creation\n",
        "obj = Stack()"
      ],
      "metadata": {
        "id": "l8ES09DO8NZd"
      },
      "execution_count": 41,
      "outputs": []
    },
    {
      "cell_type": "code",
      "source": [
        "#push operation\n",
        "obj.push(5)\n",
        "obj.push(4)\n",
        "obj.push(3)\n",
        "obj.push(2)\n",
        "obj.push(1)"
      ],
      "metadata": {
        "id": "1JS7UWVM7aGt"
      },
      "execution_count": 42,
      "outputs": []
    },
    {
      "cell_type": "code",
      "source": [
        "#traverse\n",
        "obj.traverse()"
      ],
      "metadata": {
        "colab": {
          "base_uri": "https://localhost:8080/"
        },
        "id": "met4OzaJ7ftb",
        "outputId": "78c8fd24-3756-4f79-a00f-61ca97c47d76"
      },
      "execution_count": 43,
      "outputs": [
        {
          "output_type": "stream",
          "name": "stdout",
          "text": [
            "1\n",
            "2\n",
            "3\n",
            "4\n",
            "5\n"
          ]
        }
      ]
    },
    {
      "cell_type": "code",
      "source": [
        "#count\n",
        "obj.count()"
      ],
      "metadata": {
        "colab": {
          "base_uri": "https://localhost:8080/"
        },
        "id": "O3ncNuZC77Tl",
        "outputId": "9bb395ca-ab18-40b6-a0d6-e00c1dce659a"
      },
      "execution_count": 44,
      "outputs": [
        {
          "output_type": "execute_result",
          "data": {
            "text/plain": [
              "5"
            ]
          },
          "metadata": {},
          "execution_count": 44
        }
      ]
    },
    {
      "cell_type": "code",
      "source": [
        "#pop\n",
        "obj.pop()"
      ],
      "metadata": {
        "colab": {
          "base_uri": "https://localhost:8080/"
        },
        "id": "Ig3ECzU48Fii",
        "outputId": "649c6b0d-5068-42ec-da6e-f0a88022adcb"
      },
      "execution_count": 45,
      "outputs": [
        {
          "output_type": "stream",
          "name": "stdout",
          "text": [
            "Pop the  1\n"
          ]
        }
      ]
    },
    {
      "cell_type": "code",
      "source": [
        "#peak\n",
        "obj.peak()"
      ],
      "metadata": {
        "colab": {
          "base_uri": "https://localhost:8080/"
        },
        "id": "8hpgIAlX8cua",
        "outputId": "a07f2ac4-01a7-4b0a-ff07-a2b682904c45"
      },
      "execution_count": 46,
      "outputs": [
        {
          "output_type": "stream",
          "name": "stdout",
          "text": [
            "2\n"
          ]
        }
      ]
    },
    {
      "cell_type": "code",
      "source": [
        "#isempty\n",
        "obj.isempty()"
      ],
      "metadata": {
        "colab": {
          "base_uri": "https://localhost:8080/"
        },
        "id": "8r_pQ7f49wvR",
        "outputId": "77441717-dfbe-4f49-c9cf-6b3d02a53dff"
      },
      "execution_count": 47,
      "outputs": [
        {
          "output_type": "execute_result",
          "data": {
            "text/plain": [
              "False"
            ]
          },
          "metadata": {},
          "execution_count": 47
        }
      ]
    },
    {
      "cell_type": "code",
      "source": [],
      "metadata": {
        "id": "5Fpwsyfn93-t"
      },
      "execution_count": null,
      "outputs": []
    }
  ]
}