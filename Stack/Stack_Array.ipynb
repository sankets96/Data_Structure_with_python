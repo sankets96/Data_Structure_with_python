{
  "nbformat": 4,
  "nbformat_minor": 0,
  "metadata": {
    "colab": {
      "provenance": []
    },
    "kernelspec": {
      "name": "python3",
      "display_name": "Python 3"
    },
    "language_info": {
      "name": "python"
    }
  },
  "cells": [
    {
      "cell_type": "markdown",
      "source": [
        "**By List**"
      ],
      "metadata": {
        "id": "1FzsZESXL9Xw"
      }
    },
    {
      "cell_type": "markdown",
      "source": [
        "Python list is act as directly stack\n"
      ],
      "metadata": {
        "id": "m7ej4g5zMArv"
      }
    },
    {
      "cell_type": "code",
      "source": [
        "l = []"
      ],
      "metadata": {
        "id": "ZLpXLrs5L_kb"
      },
      "execution_count": 9,
      "outputs": []
    },
    {
      "cell_type": "code",
      "source": [
        "#push\n",
        "l.append(1)\n",
        "l.append(2)\n",
        "l.append(3)"
      ],
      "metadata": {
        "id": "Vt3WBxYuMHne"
      },
      "execution_count": 10,
      "outputs": []
    },
    {
      "cell_type": "code",
      "source": [
        "#pop\n",
        "l.pop()\n",
        "l"
      ],
      "metadata": {
        "colab": {
          "base_uri": "https://localhost:8080/"
        },
        "id": "lkSIhxwpMOPI",
        "outputId": "f5b6af3a-6174-4e99-9e83-4c39a9fd5809"
      },
      "execution_count": 11,
      "outputs": [
        {
          "output_type": "execute_result",
          "data": {
            "text/plain": [
              "[1, 2]"
            ]
          },
          "metadata": {},
          "execution_count": 11
        }
      ]
    },
    {
      "cell_type": "code",
      "source": [
        "#count\n",
        "len(l)"
      ],
      "metadata": {
        "colab": {
          "base_uri": "https://localhost:8080/"
        },
        "id": "K2hTSt_sMPn-",
        "outputId": "bc24b6a7-cd4d-4e8b-ac11-4f00f3ba748c"
      },
      "execution_count": 12,
      "outputs": [
        {
          "output_type": "execute_result",
          "data": {
            "text/plain": [
              "2"
            ]
          },
          "metadata": {},
          "execution_count": 12
        }
      ]
    },
    {
      "cell_type": "code",
      "source": [
        "#isempty\n",
        "def isempty(ls):\n",
        "  if len(ls) == 0:\n",
        "    return True\n",
        "  else:\n",
        "    return False\n",
        "\n",
        "\n",
        "isempty(l)"
      ],
      "metadata": {
        "colab": {
          "base_uri": "https://localhost:8080/"
        },
        "id": "Ygz1lzucMYr5",
        "outputId": "fa5ae186-85af-48a0-e4dd-7e61a52a7e9d"
      },
      "execution_count": 13,
      "outputs": [
        {
          "output_type": "execute_result",
          "data": {
            "text/plain": [
              "False"
            ]
          },
          "metadata": {},
          "execution_count": 13
        }
      ]
    },
    {
      "cell_type": "code",
      "source": [
        "#peak\n",
        "def peak(ls):\n",
        "  return ls[-1]\n",
        "\n",
        "\n",
        "peak(l)"
      ],
      "metadata": {
        "colab": {
          "base_uri": "https://localhost:8080/"
        },
        "id": "Tu40b1uqMtV2",
        "outputId": "b4a8a7ae-6ab0-4b2b-ccad-870c4104b95c"
      },
      "execution_count": 14,
      "outputs": [
        {
          "output_type": "execute_result",
          "data": {
            "text/plain": [
              "2"
            ]
          },
          "metadata": {},
          "execution_count": 14
        }
      ]
    },
    {
      "cell_type": "markdown",
      "source": [
        "**By the Array**"
      ],
      "metadata": {
        "id": "KTOXURCQM56n"
      }
    },
    {
      "cell_type": "code",
      "source": [
        "class Stack:\n",
        "  def __init__(self,size):\n",
        "    self.top = -1\n",
        "    self.size = size\n",
        "    self.stack = [None]*self.size\n",
        "\n",
        "\n",
        "\n",
        "  def push(self,val):\n",
        "    if self.top == self.size-1:\n",
        "      raise 'Overflow the stack'\n",
        "      return\n",
        "\n",
        "    else:\n",
        "      self.top = self.top+1\n",
        "      self.stack[self.top] = val\n",
        "\n",
        "\n",
        "\n",
        "  def pop(self):\n",
        "    if self.top == -1:\n",
        "      return 'Underflow the stack'\n",
        "\n",
        "    else:\n",
        "      data = self.stack[self.top]\n",
        "      self.top-=1\n",
        "      print(data)\n",
        "\n",
        "\n",
        "  def peak(self):\n",
        "    return self.stack[self.top]\n",
        "\n",
        "\n",
        "  def isempty(self):\n",
        "    if self.top == -1:\n",
        "      return True\n",
        "\n",
        "    else:\n",
        "      return False\n",
        "\n",
        "\n",
        "  def count(self):\n",
        "    return self.top+1\n",
        "\n",
        "\n",
        "  def traverse(self):\n",
        "    for i in range(self.top+1):\n",
        "      print(self.stack[i],end=' ')\n",
        "\n",
        "\n"
      ],
      "metadata": {
        "id": "SEpSst32M5GC"
      },
      "execution_count": 66,
      "outputs": []
    },
    {
      "cell_type": "code",
      "source": [
        "obj = Stack(4)"
      ],
      "metadata": {
        "id": "h6aZiX_SM1Wt"
      },
      "execution_count": 77,
      "outputs": []
    },
    {
      "cell_type": "code",
      "source": [
        "#push\n",
        "obj.push(11)\n",
        "obj.push(12)\n",
        "obj.push(13)\n",
        "obj.push(14)"
      ],
      "metadata": {
        "id": "M5x05SNyN3X2"
      },
      "execution_count": 78,
      "outputs": []
    },
    {
      "cell_type": "code",
      "source": [
        "#pop\n",
        "obj.pop()"
      ],
      "metadata": {
        "colab": {
          "base_uri": "https://localhost:8080/"
        },
        "id": "CTQFbcKTN-Eo",
        "outputId": "2229b65e-b08c-4c86-c023-c924289f992d"
      },
      "execution_count": 79,
      "outputs": [
        {
          "output_type": "stream",
          "name": "stdout",
          "text": [
            "14\n"
          ]
        }
      ]
    },
    {
      "cell_type": "code",
      "source": [
        "#peak\n",
        "obj.peak()"
      ],
      "metadata": {
        "colab": {
          "base_uri": "https://localhost:8080/"
        },
        "id": "QdaN1QkyO3cI",
        "outputId": "3da997d3-f638-466d-a68c-8375638bae98"
      },
      "execution_count": 80,
      "outputs": [
        {
          "output_type": "execute_result",
          "data": {
            "text/plain": [
              "13"
            ]
          },
          "metadata": {},
          "execution_count": 80
        }
      ]
    },
    {
      "cell_type": "code",
      "source": [
        "#isempty\n",
        "obj.isempty()"
      ],
      "metadata": {
        "colab": {
          "base_uri": "https://localhost:8080/"
        },
        "id": "TWdQGWfXPHDK",
        "outputId": "6df6d787-d150-4da6-b520-19164e0d453c"
      },
      "execution_count": 81,
      "outputs": [
        {
          "output_type": "execute_result",
          "data": {
            "text/plain": [
              "False"
            ]
          },
          "metadata": {},
          "execution_count": 81
        }
      ]
    },
    {
      "cell_type": "code",
      "source": [
        "obj.count()"
      ],
      "metadata": {
        "colab": {
          "base_uri": "https://localhost:8080/"
        },
        "id": "texjXZ3GPdwL",
        "outputId": "6389eb92-f74b-4e8f-cb19-4e74c8b00e5e"
      },
      "execution_count": 82,
      "outputs": [
        {
          "output_type": "execute_result",
          "data": {
            "text/plain": [
              "3"
            ]
          },
          "metadata": {},
          "execution_count": 82
        }
      ]
    },
    {
      "cell_type": "code",
      "source": [
        "obj.traverse()"
      ],
      "metadata": {
        "colab": {
          "base_uri": "https://localhost:8080/"
        },
        "id": "rChvYW5uQTz4",
        "outputId": "07d565fa-8229-40d3-a115-0180d9cf128d"
      },
      "execution_count": 83,
      "outputs": [
        {
          "output_type": "stream",
          "name": "stdout",
          "text": [
            "11 12 13 "
          ]
        }
      ]
    },
    {
      "cell_type": "code",
      "source": [],
      "metadata": {
        "id": "oY_vU-9yQaWH"
      },
      "execution_count": 83,
      "outputs": []
    }
  ]
}